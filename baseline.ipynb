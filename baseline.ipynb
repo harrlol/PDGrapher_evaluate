{
 "cells": [
  {
   "cell_type": "code",
   "execution_count": null,
   "metadata": {},
   "outputs": [],
   "source": [
    "import torch\n",
    "from torch_geometric.loader import DataLoader\n",
    "import numpy as np\n",
    "import pandas as pd\n",
    "from scipy.io import mmread\n",
    "import matplotlib.pyplot as plt\n",
    "import anndata as ad\n",
    "import h5py\n",
    "import scanpy as sc\n",
    "import re\n",
    "import os\n",
    "import os.path as osp\n",
    "import sys\n",
    "from matplotlib_venn import venn2, venn3\n",
    "from random import sample\n",
    "from sklearn.preprocessing import MinMaxScaler\n",
    "import networkx as nx\n",
    "from torch_geometric.data import Data\n",
    "from torch_geometric.utils import add_remaining_self_loops, to_undirected\n",
    "from tqdm import tqdm"
   ]
  },
  {
   "cell_type": "code",
   "execution_count": null,
   "metadata": {},
   "outputs": [],
   "source": [
    "adata = sc.read_h5ad(\"/home/b-evelyntong/hl/joung_data/TFAtlas_subsample_raw.h5ad\", backed = 'r')\n",
    "\n",
    "print(\"selecting cells...\")\n",
    "# Randomly select cells\n",
    "np.random.seed(702)\n",
    "n_cells = 50000\n",
    "selected_cells = np.random.choice(adata.shape[0], size=n_cells, replace=False)\n",
    "selected_cells = np.sort(selected_cells)\n",
    "\n",
    "print(\"extracting cells...\")\n",
    "# Extract expression values for selected cells\n",
    "selected_adata = adata.X[selected_cells, :]\n",
    "print(\"converting to panda frame\")\n",
    "X_pert = pd.DataFrame(selected_adata.X, \n",
    "                         columns=selected_adata.var,  # gene names as columns\n",
    "                         index=selected_adata.obs)"
   ]
  }
 ],
 "metadata": {
  "language_info": {
   "name": "python"
  }
 },
 "nbformat": 4,
 "nbformat_minor": 2
}
